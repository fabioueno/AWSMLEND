{
 "cells": [
  {
   "cell_type": "markdown",
   "id": "68d19a2b-3258-4120-86df-21d75c69bfb5",
   "metadata": {},
   "source": [
    "# Introduction to Machine Learning"
   ]
  },
  {
   "cell_type": "markdown",
   "id": "912240a9-2dde-4141-81dc-dc2887eb5842",
   "metadata": {},
   "source": [
    "## History"
   ]
  },
  {
   "cell_type": "markdown",
   "id": "0db2c206-8788-4135-93ed-98577a6404a7",
   "metadata": {},
   "source": [
    "> An interactive an thorough timeline was created by **Google** and can be\n",
    "found [here][1].\n",
    "\n",
    "[1]: https://cloud.withgoogle.com/build/data-analytics/explore-history-machine-learning"
   ]
  },
  {
   "cell_type": "markdown",
   "id": "4b18f0e0-5b4e-444b-9a0e-ce91dff8838f",
   "metadata": {},
   "source": [
    "- 1642: French teen builds the first mechanical calculator\n",
    "- 1679: The modern binary system is born\n",
    "- 1770: A chess-playing automaton debuts, then dupes Europe for decades\n",
    "- 1834: The \"father of the computer\" invents punch-card programming\n",
    "- 1842: Ada Lovelace's algorithm makes her the world's first computer programmer\n",
    "- 1847: A mystic’s algebra makes CPUs possible more than a century before they’re invented\n",
    "- 1927: AI debuts on the silver screen\n",
    "- 1936: Alan Turing conceives his \"Universal Machine\"\n",
    "- 1943: A human \"neural network\" is modeled with electrical circuits\n",
    "- 1952: A computer improves its checkers game\n",
    "- 1959: A neural network learns to make phone cals clearer\n",
    "- 1968: Kubrick’s 2001 sets a high bar for computer intelligence\n",
    "- 1979: The Stanford Cart takes a slow but significant spin\n",
    "- 1982: Movie audiences meet Blade Runner's replicants\n",
    "- 1985: NETtalk teaches itself to pronounce new words\n",
    "- 1997: Deep Blue beats a chess champion\n",
    "- 1999: Computer-aided diagnosis catches more cancers\n",
    "- 2006: Neural net research gets a reboot as “deep learning”\n",
    "- 2009: BellKor's Pragmatic Chaos nets the $1M Netflix prize\n",
    "- 2011: Watson computer wins at Jeopardy!\n",
    "- 2012: Google Brain detects human faces in images\n",
    "- 2014: Chatbot \"Eugene Goostman\" passes the Turing Test\n",
    "- 2014: Computers help improve the ER experience\n",
    "- 2015: A computer wins at the world's hardest boardgame\n",
    "- 2015: Machines and humans pair up to fight fraud online\n",
    "- 2016: Read my lips, LipNet\n",
    "- 2016: Natural language processing gives life to a digital personal shopper\n",
    "- 2017: A machine learns how to stop online trolling\n",
    "- 2017: What's next in machine learning?"
   ]
  },
  {
   "cell_type": "markdown",
   "id": "5f2c86fe-aee5-4bf5-bd9a-6b30eec50d53",
   "metadata": {},
   "source": [
    "> Another timeline from **import.io** can also be found [here][1].\n",
    "\n",
    "[1]: https://www.import.io/post/history-of-deep-learning."
   ]
  },
  {
   "cell_type": "markdown",
   "id": "94e87d8d-7141-4250-a158-e12608f23fb2",
   "metadata": {},
   "source": [
    "- 1943: The first mathematical model of a neural network\n",
    "- 1950: The prediction of machine learning\n",
    "- 1952: First machine learning programs\n",
    "- 1957: Setting the foundation for deep neural networks\n",
    "- 1959: Discovery of simple cells and complex cells\n",
    "- 1960: Control theory\n",
    "- 1965: The first working deep learning networks\n",
    "- 1979-80: An ANN learns how to recognize visual patterns\n",
    "- 1982: The creation of the Hopfield Networks\n",
    "- 1985: A program learns to pronounce English words\n",
    "- 1986: Improvements in shape recognition and word prediction\n",
    "- 1989: Machines read handwritten digits\n",
    "- 1989: Q-learning\n",
    "- 1993: A ‘very deep learning’ task is solved\n",
    "- 1995: Support vector machines\n",
    "- 1997: Long short-term memory was proposed\n",
    "- 1998: Gradient-based learning\n",
    "- 2009: Launch of ImageNet\n",
    "- 2011: Creation of AlexNet\n",
    "- 2012: The Cat Experiment\n",
    "- 2014: DeepFace\n",
    "- 2014: Generative Adversarial Networks (GAN)\n",
    "- 2016: Powerful machine learning products"
   ]
  },
  {
   "cell_type": "markdown",
   "id": "3fe16527-cf8d-45c2-87d8-5ffb30eba811",
   "metadata": {},
   "source": [
    "## Introduction"
   ]
  },
  {
   "cell_type": "markdown",
   "id": "22decbd7-efcd-4390-8646-4d31645d10a7",
   "metadata": {},
   "source": [
    "> Machine learning is a subfield of artificial intelligence, which is broadly\n",
    "defined as the capability of a machine to imitate intelligent human behavior.\n",
    "Artificial intelligence systems are used to perform complex tasks in a way that\n",
    "is similar to how humans solve problems. -- [MIT][1]\n",
    "\n",
    "[1]: https://mitsloan.mit.edu/ideas-made-to-matter/machine-learning-explained"
   ]
  },
  {
   "cell_type": "markdown",
   "id": "48815b37-85e0-4dfc-953d-dc27c6cf8c31",
   "metadata": {},
   "source": [
    "The following checklist is a baseline to decide if Machine Learning is right\n",
    "for some task at hand:\n",
    "\n",
    "- [ ] The problem is well defined.\n",
    "- [ ] There's a measurable outcome.\n",
    "- [ ] The solution is not simple.\n",
    "- [ ] It's possible to solve the problem."
   ]
  }
 ],
 "metadata": {
  "kernelspec": {
   "display_name": "Python 3 (ipykernel)",
   "language": "python",
   "name": "python3"
  },
  "language_info": {
   "codemirror_mode": {
    "name": "ipython",
    "version": 3
   },
   "file_extension": ".py",
   "mimetype": "text/x-python",
   "name": "python",
   "nbconvert_exporter": "python",
   "pygments_lexer": "ipython3",
   "version": "3.8.8"
  }
 },
 "nbformat": 4,
 "nbformat_minor": 5
}
