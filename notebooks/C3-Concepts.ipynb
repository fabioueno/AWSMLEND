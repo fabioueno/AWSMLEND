{
 "cells": [
  {
   "cell_type": "markdown",
   "id": "81ebe753-65dc-4e5b-af85-dff0226cb3ce",
   "metadata": {},
   "source": [
    "# Machine Learning Concepts"
   ]
  },
  {
   "cell_type": "markdown",
   "id": "e4543b9b-bc34-431f-9a2b-31ab0a525b28",
   "metadata": {},
   "source": [
    "Machine Learning is built around three main concepts:\n",
    "\n",
    "- **Domain** [Scope]: Defines the field/industry, includes what is the question\n",
    "  we're looking to answer.\n",
    "- **Data**: Defines how we plan to measure or use the information from the\n",
    "  domain to solve the problem. Can be complete or incomplete.\n",
    "- **Model**: Leverages domain and data to build a solution. Usually supervised\n",
    "  or unsupervised."
   ]
  },
  {
   "cell_type": "markdown",
   "id": "748bfe39-39e5-4429-83de-6aea7f2dbece",
   "metadata": {},
   "source": [
    "---"
   ]
  },
  {
   "cell_type": "markdown",
   "id": "91cc85ce-03e4-4e2a-bbfb-573a2087cb1f",
   "metadata": {},
   "source": [
    "## ML Lifecycle"
   ]
  },
  {
   "cell_type": "markdown",
   "id": "8aa6bcbf-1534-48e6-b59d-83af9a84572e",
   "metadata": {},
   "source": [
    "<img src=\"../assets/lifecycle.svg\" alt=\"ML Lifecycle\" width=\"100%\">"
   ]
  },
  {
   "cell_type": "markdown",
   "id": "3120b895-eccd-4068-9fde-dd057598f60b",
   "metadata": {},
   "source": [
    "### Product"
   ]
  },
  {
   "cell_type": "markdown",
   "id": "ff3a456b-a4ad-4f5b-9f5c-a8844ac6714b",
   "metadata": {},
   "source": [
    "- **Problem**: What problem is the ML application looking to solve.\n",
    "- **Business Objective**: Metric that will decide on the success of the ML project."
   ]
  },
  {
   "cell_type": "markdown",
   "id": "46b0352a-1a41-41fa-b929-a2ac5e6595cc",
   "metadata": {},
   "source": [
    "### Data"
   ]
  },
  {
   "cell_type": "markdown",
   "id": "79250777-9395-4ad6-82c8-574fa5ae751e",
   "metadata": {},
   "source": [
    "- **Obtain Data**: Start recording and storing data once the product has been\n",
    "  decided. It's important to start this early!\n",
    "- **Process Data**: Processing data so it's structured in a way that\n",
    "  facilitates downstream ML processes.\n",
    "- **Analyze Data**: Provide insights and possible directions to take to achieve\n",
    "  the business objective with the ML application.\n",
    "- **New Data**: Data will eventually be produced from the model's predictions,\n",
    "  that can be analyzed and fed back into the cicle to modify or refine any\n",
    "  results."
   ]
  },
  {
   "cell_type": "markdown",
   "id": "7ef2cfb1-2a28-45a8-9a3b-f1113b83bc7a",
   "metadata": {},
   "source": [
    "### Engineering"
   ]
  },
  {
   "cell_type": "markdown",
   "id": "8cdec345-12d0-4005-8f46-13bd58e0d3c2",
   "metadata": {},
   "source": [
    "- **Build Model**: Use processed and structured data from the previous steps to\n",
    "  build a model.\n",
    "- **Test Model**: Use metrics to measure the performance of a model on a\n",
    "  dataset. This is the first assessment of the model and may include multiple\n",
    "  iterations.\n",
    "- **Deploy Model**: A set of requirements that need to be met for the ML\n",
    "  application to be used in the real world, or production environment. Involves\n",
    "  reliability of a model to always return a prediction, and responsiveness so\n",
    "  it can return a prediction in an acceptable time frame.\n",
    "- **Evaluate Model**: Evaluation is done once the model is live and produces\n",
    "  predictions on unseen data. This will provide an answer as to how well the ML\n",
    "  application works on real-world data."
   ]
  },
  {
   "cell_type": "markdown",
   "id": "dd63907d-bbf1-4316-b019-e61fef7885a5",
   "metadata": {},
   "source": [
    "### Results"
   ]
  },
  {
   "cell_type": "markdown",
   "id": "3f5e678a-12db-4ce7-832c-4b9715d3a780",
   "metadata": {},
   "source": [
    "- **Inference**: Once an ML application is deployed, results are generated from\n",
    "  the inference of the model. These can feedback into the model, where\n",
    "  evaluations and new data produced can be used to further optimize the model."
   ]
  },
  {
   "cell_type": "markdown",
   "id": "82641101-ee30-4955-8b72-6d3727c9550b",
   "metadata": {},
   "source": [
    "---"
   ]
  },
  {
   "cell_type": "markdown",
   "id": "f05b8e94-1ea4-46f5-a4d7-1abe5406cfef",
   "metadata": {},
   "source": [
    "> Everyone has their own interpretation of the ML lifecycle. Eric Hofesmann,\n",
    "through **Medium** wrote a blog post with an addional overview\n",
    "[here](https://towardsdatascience.com/the-machine-learning-lifecycle-in-2021-473717c633bc)."
   ]
  },
  {
   "cell_type": "markdown",
   "id": "c371f212-a055-413a-99f6-b1ba2ee448a3",
   "metadata": {},
   "source": [
    "> [MLFlow](https://mlflow.org) is a product geared to be a solution to the ML\n",
    "lifecycle."
   ]
  },
  {
   "cell_type": "markdown",
   "id": "1a1eaf97-5d0a-4eac-975e-eaeee89b03e7",
   "metadata": {},
   "source": [
    "---"
   ]
  },
  {
   "cell_type": "markdown",
   "id": "cf8ffd29-015d-459b-aaa2-132a16595502",
   "metadata": {},
   "source": [
    "## Supervised Learning"
   ]
  },
  {
   "cell_type": "markdown",
   "id": "d5bfa5ef-1efb-4dc5-8037-5afac36ee3e8",
   "metadata": {},
   "source": [
    "- In Supervised Learning, models are trained with a set of features to\n",
    "  **predict a target value**.\n",
    "- It consists of **regression** and **classification**.\n",
    "- **Metrics** determine how close the predictions is to the true target value,\n",
    "  measuring model success."
   ]
  },
  {
   "cell_type": "markdown",
   "id": "c9806bbd-72cc-4482-b9ce-06be47083e27",
   "metadata": {},
   "source": [
    "### Regression"
   ]
  },
  {
   "cell_type": "markdown",
   "id": "c33224a4-4d51-4ac1-956c-ae7a591cc433",
   "metadata": {},
   "source": [
    "- In regression, the prediction is a **statistical estimate** of a target value\n",
    "  based on feature values.\n",
    "- Target values are **quantities**.\n",
    "- Metric of success is the **distance** or **score** of the predicted value to\n",
    "  the target value. Usually, **R2** and **Root Mean Square Error** are the most\n",
    "  common."
   ]
  },
  {
   "cell_type": "markdown",
   "id": "7e0fac2a-5348-48b1-859d-64d879c67312",
   "metadata": {},
   "source": [
    "#### Example / Practice"
   ]
  },
  {
   "cell_type": "markdown",
   "id": "bd80f63a-fcbb-43b3-bbe2-ea2278184f82",
   "metadata": {},
   "source": [
    "1. Import the regression model\n",
    "2. Define the feature values\n",
    "3. Define the target values\n",
    "4. Create the model\n",
    "5. Fit the model on features and target\n",
    "6. Score model via metrics\n",
    "7. Predict target values"
   ]
  },
  {
   "cell_type": "markdown",
   "id": "c2772c11-f75f-4da1-b730-7bc2206611be",
   "metadata": {},
   "source": [
    "```python\n",
    "# [1] Import the regression model\n",
    "from sklearn.linear_model import LinearRegression\n",
    "\n",
    "# [2/3] Define the feature values and target values \n",
    "features = [[5, 3.4, 6], [1, 0.4, 10], [2, 0.1, 1]]\n",
    "target = [1.4, 0.5, 1]\n",
    "\n",
    "# [4/5] Create the model and fit on features and target\n",
    "regression = LinearRegression().fit(features, target)\n",
    "\n",
    "# [6] Score model via metrics\n",
    "print(regression.score(features, target))\n",
    "\n",
    "# [7] Predict target values\n",
    "print(regression.predict(features))\n",
    "```"
   ]
  },
  {
   "cell_type": "markdown",
   "id": "db200f04-6442-44ed-8dba-7ec192209798",
   "metadata": {},
   "source": [
    "### Classification"
   ]
  },
  {
   "cell_type": "markdown",
   "id": "83f0b893-a072-4a63-be32-b2a2a8eeab1f",
   "metadata": {},
   "source": [
    "- In classification, the prediction is a label based on feature values.\n",
    "- Target values are a **discrete number of labels**.\n",
    "- Metric of success is the related to **labeling correctly** when comparing\n",
    "  to the target values, usually **accuracy**."
   ]
  },
  {
   "cell_type": "markdown",
   "id": "c038d232-959a-4153-8b76-c87082a9500b",
   "metadata": {},
   "source": [
    "#### Example / Practice"
   ]
  },
  {
   "cell_type": "markdown",
   "id": "f44c6e88-50ba-4371-9703-71929a5fdda5",
   "metadata": {},
   "source": [
    "1. Import the classification model\n",
    "2. Define the feature values\n",
    "3. Define the target values\n",
    "4. Create the model\n",
    "5. Fit the model on features and target\n",
    "6. Score model via metrics\n",
    "7. Predict target values"
   ]
  },
  {
   "cell_type": "markdown",
   "id": "31a21aef-5810-4a0a-8f91-ba86be7d2478",
   "metadata": {},
   "source": [
    "```python\n",
    "# [1] Import the regression model\n",
    "from sklearn.linear_model import RidgeClassifier\n",
    "\n",
    "# [2/3] Define the feature values and target values \n",
    "features = [[5, 3.4, 6], [1, 0.4, 10], [2, 0.1, 1]]\n",
    "target = [0, 1, 1]\n",
    "\n",
    "# [4/5] Create the model and fit on features and target\n",
    "classifier = RidgeClassifier(alpha = 0.3).fit(features, target)\n",
    "\n",
    "# [6] Score model via metrics\n",
    "print(classifier.score(features, target))\n",
    "\n",
    "# [7] Predict target values\n",
    "print(classifier.predict(features))\n",
    "```"
   ]
  },
  {
   "cell_type": "markdown",
   "id": "1a0d71c9-983b-4179-9d1f-66d0413c2b85",
   "metadata": {},
   "source": [
    "> Regression deals with quantity predictions, e.g. prices and scores.\n",
    "Classification deals with labels, e.g. positive and negative."
   ]
  },
  {
   "cell_type": "markdown",
   "id": "19741bc5-fbfe-43b2-8751-2396b57ceabe",
   "metadata": {},
   "source": [
    "---"
   ]
  },
  {
   "cell_type": "markdown",
   "id": "12088c3d-1882-4249-a909-3b7b7acce01c",
   "metadata": {},
   "source": [
    "## Unsupervised Learning"
   ]
  },
  {
   "cell_type": "markdown",
   "id": "2b8c2a3e-5818-4afc-9b5b-1e0a84c87363",
   "metadata": {},
   "source": [
    "- **Organize** and represents data to provide additional structure\n",
    "- Data **does not use a target value** to fit a model\n",
    "- An example of unsupervised learning is **clustering**\n",
    "- **Metrics** determine how well it groups the data to define success. Unlike\n",
    "  supervised learning, where target values determine how well the model\n",
    "  performs, unsupervised learning uses the distance between the data points."
   ]
  },
  {
   "cell_type": "markdown",
   "id": "39dcc9d9-9ef9-47d2-aa37-1381ea4ca8b6",
   "metadata": {},
   "source": [
    "### Example / Practice"
   ]
  },
  {
   "cell_type": "markdown",
   "id": "53499e95-b445-49d9-92f4-cd71edd43313",
   "metadata": {},
   "source": [
    "1. Import an unsupervised model\n",
    "2. Define the feature values\n",
    "3. Create the model\n",
    "4. Fit the model on features\n",
    "5. Visualize labels assigned to each data point\n",
    "6. Calculate distance metric of clusters"
   ]
  },
  {
   "cell_type": "markdown",
   "id": "e541f1e3-4792-4839-afee-6d4edb9931f7",
   "metadata": {},
   "source": [
    "```python\n",
    "# [1] Import an unsupervised model\n",
    "from sklearn.cluster import KMeans\n",
    "\n",
    "# [2] Define the feature values\n",
    "features = [[5, 3.4, 6], [1, 0.4, 10], [2, 0.1, 1]]\n",
    "\n",
    "# [3/4] Create the model and fit on features\n",
    "kmeans = KMeans(n_clusters=3).fit(features)\n",
    "\n",
    "# [5] Visualize labels assigned to each data point\n",
    "print(kmeans.labels_)\n",
    "\n",
    "# [6] Calculate distance metric of clusters\n",
    "print(kmeans.inertia_)\n",
    "```"
   ]
  },
  {
   "cell_type": "markdown",
   "id": "fbb0d8b8-c1a9-4bbd-959b-3bce1b26e155",
   "metadata": {},
   "source": [
    "---"
   ]
  },
  {
   "cell_type": "markdown",
   "id": "0817378b-54e3-4ec2-90eb-e22d34c52e61",
   "metadata": {},
   "source": [
    "> **IBM** has a blog post about Supervised Learning vs Unsupervised Learning\n",
    "[here](https://www.ibm.com/cloud/blog/supervised-vs-unsupervised-learning)."
   ]
  },
  {
   "cell_type": "markdown",
   "id": "7c4be887-1cda-4c3d-9edc-2dba0ee5ea45",
   "metadata": {},
   "source": [
    "---"
   ]
  },
  {
   "cell_type": "markdown",
   "id": "61074895-ae43-4221-aa19-4150eb4387ae",
   "metadata": {},
   "source": [
    "## Exercises"
   ]
  },
  {
   "cell_type": "markdown",
   "id": "f885bfd0-7a43-43c8-b6fe-be8dcd5a12c3",
   "metadata": {},
   "source": [
    "05. **Supervised and Unsupervised ML**: In this exercise, the key point is to\n",
    "    apply both Supervised and Unsupervised models at the Iris Dataset, to see\n",
    "    that each output will be. The first model is a Linear Regression, while the\n",
    "    second is KMeans.\n",
    "\n",
    "06. **Regression and Classification ML**: Here, we perform some work on the\n",
    "    Iris Dataset one more time, focusing on the differences between Regression\n",
    "    and Classification models. We can workaround the regression to make some\n",
    "    classification, but it's not ideal.\n",
    "\n",
    "07. **App8 Helps Restaurants Predict Demand Using AWS Solutions**: This\n",
    "    is a case study on App8. The notebook will hold more information."
   ]
  }
 ],
 "metadata": {
  "kernelspec": {
   "display_name": "Python 3 (ipykernel)",
   "language": "python",
   "name": "python3"
  },
  "language_info": {
   "codemirror_mode": {
    "name": "ipython",
    "version": 3
   },
   "file_extension": ".py",
   "mimetype": "text/x-python",
   "name": "python",
   "nbconvert_exporter": "python",
   "pygments_lexer": "ipython3",
   "version": "3.8.8"
  }
 },
 "nbformat": 4,
 "nbformat_minor": 5
}
