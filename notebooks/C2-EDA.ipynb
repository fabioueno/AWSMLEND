{
 "cells": [
  {
   "cell_type": "markdown",
   "id": "fcb60960-5e1c-4189-b75c-695ab4550ea6",
   "metadata": {},
   "source": [
    "# Exploratory Data Analysis"
   ]
  },
  {
   "cell_type": "markdown",
   "id": "e3b6d582-d605-4d2f-a8bb-21acc698a523",
   "metadata": {},
   "source": [
    "EDA is a set of tools and processes that allow a better understanding of the data, including:\n",
    "\n",
    "- Create statistical summaries (mean, min, max...)\n",
    "- Identify outliers\n",
    "- Visualize feature distributions"
   ]
  },
  {
   "cell_type": "markdown",
   "id": "a9ccddfe-8938-4299-8502-b498bd8e45ed",
   "metadata": {},
   "source": [
    "In the Machine Learning pyramid, EDA is the foundational layer, which allow for an understanding of the data, preventing missing critical insights."
   ]
  },
  {
   "cell_type": "markdown",
   "id": "a9f5e4c8-bc2c-43f6-a009-4943abf24d59",
   "metadata": {},
   "source": [
    "> **NIST** provided a handbook about EDA [here](https://www.itl.nist.gov/div898/handbook/eda/section1/eda11.htm)."
   ]
  },
  {
   "cell_type": "markdown",
   "id": "308fbd95-61ad-40da-99eb-f73a1dba9f2a",
   "metadata": {},
   "source": [
    "EDA should always be done in a new dataset to avoid missing insights and\n",
    "impacting the model in a negative way."
   ]
  },
  {
   "cell_type": "markdown",
   "id": "17ad6740-f188-4f48-983c-1c86d67a320f",
   "metadata": {},
   "source": [
    "> **IBM** has a blog post explaining the \"whats\", \"whys\" and \"hows\" about EDA\n",
    "[here](https://www.ibm.com/cloud/learn/exploratory-data-analysis)."
   ]
  },
  {
   "cell_type": "markdown",
   "id": "fa68e410-afe9-48f7-b853-20b1dace4090",
   "metadata": {},
   "source": [
    "---"
   ]
  },
  {
   "cell_type": "markdown",
   "id": "62a8a829-7a74-4d56-a3e9-b801b0308160",
   "metadata": {},
   "source": [
    "## Pandas\n",
    "\n",
    "> Pandas is a fast, powerful, flexible and easy to use open source data analysis and manipulation tool,\n",
    "built on top of the Python programming language. -- [Pandas](https://pandas.pydata.org)"
   ]
  },
  {
   "cell_type": "markdown",
   "id": "8d038c05-daa8-4ebb-a5dd-c6f922e2fb63",
   "metadata": {},
   "source": [
    "### [`DataFrame`](https://pandas.pydata.org/docs/reference/api/pandas.DataFrame.html)\n",
    "\n",
    "Spreadsheet-like container for data, where rows are individual events and columns are features and target values."
   ]
  },
  {
   "cell_type": "markdown",
   "id": "bf721f66-bfc8-48b8-bc6d-b8504c315530",
   "metadata": {},
   "source": [
    "### [`describe()`](https://pandas.pydata.org/docs/reference/api/pandas.DataFrame.describe.html)\n",
    "\n",
    "Provides summary statistics for all numeric values in the DataFrame:\n",
    "\n",
    "- Count\n",
    "- Mean\n",
    "- Standard deviation\n",
    "- Minimum\n",
    "- Maximum\n",
    "- Quantiles"
   ]
  },
  {
   "cell_type": "markdown",
   "id": "42eaf566-f2f0-4948-af38-5e39f54c7acd",
   "metadata": {},
   "source": [
    "### [`hist()`](https://pandas.pydata.org/docs/reference/api/pandas.DataFrame.hist.html)\n",
    "\n",
    "Calculates and plots data distributions. Helpful to identity outliers and distributions:\n",
    "\n",
    "- Normal\n",
    "- Uniform\n",
    "- Chi-Square\n",
    "- F\n",
    "- ..."
   ]
  },
  {
   "cell_type": "markdown",
   "id": "83c03629-99ad-4558-a36d-523c4758ede0",
   "metadata": {},
   "source": [
    "### [`corr()`](https://pandas.pydata.org/docs/reference/api/pandas.DataFrame.corr.html)\n",
    "\n",
    "Calculates the correlation matrix of all columns. Strong correlated attributes add little to ML models."
   ]
  },
  {
   "cell_type": "markdown",
   "id": "e789d509-b6c7-40ae-aac4-e34d700c36e7",
   "metadata": {},
   "source": [
    "---"
   ]
  },
  {
   "cell_type": "markdown",
   "id": "9f71dc7e-82d1-49bd-bc92-6f2897440690",
   "metadata": {},
   "source": [
    "## Exercises"
   ]
  },
  {
   "cell_type": "markdown",
   "id": "90d5affb-10d3-4dff-af45-d95d400155ec",
   "metadata": {},
   "source": [
    "01. **Using SageMaker Studio for EDA in Pandas**: The objective of this\n",
    "    exercise was not to learn Pandas, but to try AWS SageMaker Studio for the\n",
    "    first time.\n",
    "\n",
    "02. **Data Wrangler**: This exercise doesn't contain a notebook. Instead it has\n",
    "    a CSV file that should be uploaded to S3. Then, use AWS SageMaker Data\n",
    "    Wrangler to create and pipeline transforming the date field to have year,\n",
    "    month and day. After that, create two visualizations: a table summary and a\n",
    "    histogram. Wrap up by exporting to S3.\n",
    "\n",
    "03. **Ground Truth**: Another exercise without notebook. It's just an JSONL\n",
    "    file that should be uploaded to S3. Using AWS SageMaker Ground Truth,\n",
    "    create an labeling job, add a labeling workforce, and finally label the\n",
    "    data. After stopping the job, the `output.manifest` should contain the\n",
    "    labeled data, as well as some metadata. This exercise was done within AWS\n",
    "    SageMaker Studio, then copied locally.\n",
    "04. **EDA Iris Dataset**: The fourth and final exercise of this lesson is all\n",
    "    about applying the techniques learned for EDA on the famous Iris Dataset,\n",
    "    available on Scikit-Learn's datasets."
   ]
  }
 ],
 "metadata": {
  "kernelspec": {
   "display_name": "Python 3 (ipykernel)",
   "language": "python",
   "name": "python3"
  },
  "language_info": {
   "codemirror_mode": {
    "name": "ipython",
    "version": 3
   },
   "file_extension": ".py",
   "mimetype": "text/x-python",
   "name": "python",
   "nbconvert_exporter": "python",
   "pygments_lexer": "ipython3",
   "version": "3.8.8"
  }
 },
 "nbformat": 4,
 "nbformat_minor": 5
}
