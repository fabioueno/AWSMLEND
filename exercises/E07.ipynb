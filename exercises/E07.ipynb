{
 "cells": [
  {
   "cell_type": "markdown",
   "id": "1d62bf89-500b-4ff4-a13e-338610949f12",
   "metadata": {},
   "source": [
    "# Case Study: App8 Helps Restaurants Predict Demand Using AWS Solutions"
   ]
  },
  {
   "cell_type": "markdown",
   "id": "7d7285c3-447d-44e3-9eb8-26acafc8b008",
   "metadata": {},
   "source": [
    "> The case can be found on [AWS](https://aws.amazon.com/solutions/case-studies/app-8)."
   ]
  },
  {
   "cell_type": "markdown",
   "id": "52dc09e1-6661-411e-bd92-5ad50e81869c",
   "metadata": {},
   "source": [
    "Read through the case study, choose 3 of the 11 sections of the ML Lifecycle\n",
    "and write a brief paragraph explaining how you would go about executing on\n",
    "these parts of the lifecycle."
   ]
  },
  {
   "cell_type": "markdown",
   "id": "425cdba4-5ee0-4cc9-90f6-637326ff9e94",
   "metadata": {},
   "source": [
    "<img src=\"../assets/lifecycle.svg\" alt=\"ML Lifecycle\" width=\"100%\">"
   ]
  }
 ],
 "metadata": {
  "kernelspec": {
   "display_name": "Python 3 (ipykernel)",
   "language": "python",
   "name": "python3"
  },
  "language_info": {
   "codemirror_mode": {
    "name": "ipython",
    "version": 3
   },
   "file_extension": ".py",
   "mimetype": "text/x-python",
   "name": "python",
   "nbconvert_exporter": "python",
   "pygments_lexer": "ipython3",
   "version": "3.8.8"
  }
 },
 "nbformat": 4,
 "nbformat_minor": 5
}
