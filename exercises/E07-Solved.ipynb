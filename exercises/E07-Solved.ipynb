{
 "cells": [
  {
   "cell_type": "markdown",
   "id": "1d62bf89-500b-4ff4-a13e-338610949f12",
   "metadata": {},
   "source": [
    "# Case Study: App8 Helps Restaurants Predict Demand Using AWS Solutions"
   ]
  },
  {
   "cell_type": "markdown",
   "id": "7d7285c3-447d-44e3-9eb8-26acafc8b008",
   "metadata": {},
   "source": [
    "> The case can be found on [AWS](https://aws.amazon.com/solutions/case-studies/app-8)."
   ]
  },
  {
   "cell_type": "markdown",
   "id": "52dc09e1-6661-411e-bd92-5ad50e81869c",
   "metadata": {},
   "source": [
    "Read through the case study, choose 3 of the 11 sections of the ML Lifecycle\n",
    "and write a brief paragraph explaining how you would go about executing on\n",
    "these parts of the lifecycle."
   ]
  },
  {
   "cell_type": "markdown",
   "id": "425cdba4-5ee0-4cc9-90f6-637326ff9e94",
   "metadata": {},
   "source": [
    "<img src=\"../assets/lifecycle.svg\" alt=\"ML Lifecycle\" width=\"100%\">"
   ]
  },
  {
   "cell_type": "markdown",
   "id": "c0aa2b61-6b71-422d-940b-b69f6cae154d",
   "metadata": {},
   "source": [
    "## Product"
   ]
  },
  {
   "cell_type": "markdown",
   "id": "020f8ec0-a8b2-4db0-b8dd-bc699376b234",
   "metadata": {},
   "source": [
    "1. **Problem**: After the COVID-19 pandemic, App8's aimed at solving the\n",
    "   problem of forecasting customer volume and demand for menu items. With their\n",
    "   solution, restaurateurs would be able to address understocking and\n",
    "   stocking.\n",
    "\n",
    "   > The problem with restaurants and food-related businesses is not knowing\n",
    "   future demand for your services. Because this is an unknown, you may create\n",
    "   or purchase too much or too little of an item. Furthermore, there are also\n",
    "   operational costs associated with not knowing demand as it may require\n",
    "   additional personal and equipment. This leads to a mismatch in demand\n",
    "   between the business and the customer, leading to a poor experience.\n",
    "\n",
    "2. **Business Objective**: The quantity of the items in stock seems to be a\n",
    "   good metric for evaluating the success of the project since the idea is to\n",
    "   overcome understocking and overstocking. This way, there should be defined\n",
    "   some baseline and limit to each menu item according to the predictions. If\n",
    "   these limits are often incorrect, the model needs to be re-evaluated.\n",
    "   \n",
    "   > Predict demand based on the restaurant's risk tolerance, and create\n",
    "   \"what if\" scenarios to better prepare the business. This creates new tools\n",
    "   for the restaurants to better serve their customer and overall create an\n",
    "   improved experience."
   ]
  },
  {
   "cell_type": "markdown",
   "id": "519eaa40-854e-4892-814a-3dd3803b9367",
   "metadata": {},
   "source": [
    "## Data"
   ]
  },
  {
   "cell_type": "markdown",
   "id": "cf29e974-9ca5-46e9-8098-ff5c92aed366",
   "metadata": {},
   "source": [
    "3. **Obtain Data**: Since data is the core of ML, the company should have a\n",
    "   history of orders from each restaurant.\n",
    "   \n",
    "   > App8 is a service that connects customers and restaurants. In doing so,\n",
    "   and based on customer payment information, they can see how items from a\n",
    "   business are purchased, returned, or denied. With enough businesses in\n",
    "   aggregate, they can start finding trends based on customer behavior,\n",
    "   business details, and time patterns.\n",
    "\n",
    "4. **Process Data**: After collecting the data, it should be structured in a\n",
    "   way to be used by the Machine Learning model, including items ordered, date,\n",
    "   total price (could be used to predict revenue), etc.\n",
    "   \n",
    "   > As with any data, cleaning, and formatting, the data will be crucial. Not\n",
    "   only will transactions be denied and data not being be captured within App8,\n",
    "   but also every business is different leading to non-uniformity.\n",
    "   Standardization and data pipelines will need to be in place to address all\n",
    "   differences in the data.\n",
    "\n",
    "5. **Analyze Data**: Before jumping into building the model, performing EDA can\n",
    "   provide some insights beforehand. For instance, seasonality could impact a\n",
    "   restaurant's volume or a single menu item demand.\n",
    "   \n",
    "   > After the data is processed, it can be loaded into an analytics system\n",
    "   such as Pandas. From there, it can be visualized, described, and modified in\n",
    "   order to make it robust and ready for model building.\n",
    "\n",
    "6. **New Data**: When the model is up and running, the inference data should be\n",
    "   used to feed back into the cycle, refining the results even more.\n",
    "   \n",
    "   > As new data enters the system that has been influenced by predictions,\n",
    "   that will feed into the models to enhance their forecasts. Not only that,\n",
    "   but it will also validate the current predictions in the real-world setting."
   ]
  },
  {
   "cell_type": "markdown",
   "id": "39a15ea1-4a49-45df-b753-da9bc0901bb6",
   "metadata": {},
   "source": [
    "## Engineering"
   ]
  },
  {
   "cell_type": "markdown",
   "id": "d096bc7f-3c6e-40e9-b3d4-1e84a15289e7",
   "metadata": {},
   "source": [
    "7. **Build Model**: It's hard to know which model is the best for each problem.\n",
    "   There may be some ideas, but even after deciding on a model, its\n",
    "   hyperparameters should be tuned to get better results. In this case, a\n",
    "   Regression (Supervised) model seems to be a good fit.\n",
    "   \n",
    "   > Building a model will require time series analysis and prediction using\n",
    "   the AWS Forecast Solution. It will create several quantiles: p10, p50, and\n",
    "   p90. These are configurable depending on the business's risk tolerance. The\n",
    "   model should be generalizable across all categories.\n",
    "\n",
    "8. **Test Model**: After building, testing is a matter of checking the\n",
    "   predictions. In the regression model proposed, a metric as R2 or Root Mean\n",
    "   Square Error are good calls.\n",
    "   \n",
    "   > Testing of the model requires historical data on many businesses of all\n",
    "   categories. Once the model is built, it should be back-tested and optimized\n",
    "   to reduce the error while not over-fitting.\n",
    "\n",
    "9. **Deploy Model**: When confident on the results predicted by the model, it\n",
    "   should be deployed into production. Since the company is already leveraging\n",
    "   AWS, it shouldn't have many adversities, as the platform is robust and easy\n",
    "   to use.\n",
    "   \n",
    "   > Deploying of the model is cloud-first, using AWS Solutions that are ready\n",
    "   to train and deploy to production. Because these are managed through AWS and\n",
    "   their partners, much of the overhead in managing deployments is out of our\n",
    "   hands.\n",
    "\n",
    "10. **Evaluate Model**: When predicting on previously unseen data, the model\n",
    "    should be put in check constantly, so there's no surprise if things go\n",
    "    south.\n",
    "    \n",
    "    > After inference, evaluating how the model performed is just as important\n",
    "    as producing the model initially. Evaluation can provide future iterations\n",
    "    of the model and improved accuracy."
   ]
  },
  {
   "cell_type": "markdown",
   "id": "8f31bf84-9b74-4520-9eff-1ac16f5d53f3",
   "metadata": {},
   "source": [
    "## Results"
   ]
  },
  {
   "cell_type": "markdown",
   "id": "180c7068-63d2-4f9c-a715-e73cc7a77dc7",
   "metadata": {},
   "source": [
    "11. **Inference**: When deployed, the data resulting from inference should be\n",
    "    fed back into the cycle, both for analyzing and evaluating the model.\n",
    "    \n",
    "    > The model uses AWS solutions, but all inferences should be tracked and\n",
    "    logged. Inference data provides new insights into the accuracy of the\n",
    "    forecasts and leads to building more robust models in the future. Also,\n",
    "    having a model that is not only accurate but responsive, leads to a better\n",
    "    user experience and overall improved satisfaction."
   ]
  }
 ],
 "metadata": {
  "kernelspec": {
   "display_name": "Python 3 (ipykernel)",
   "language": "python",
   "name": "python3"
  },
  "language_info": {
   "codemirror_mode": {
    "name": "ipython",
    "version": 3
   },
   "file_extension": ".py",
   "mimetype": "text/x-python",
   "name": "python",
   "nbconvert_exporter": "python",
   "pygments_lexer": "ipython3",
   "version": "3.8.8"
  }
 },
 "nbformat": 4,
 "nbformat_minor": 5
}
